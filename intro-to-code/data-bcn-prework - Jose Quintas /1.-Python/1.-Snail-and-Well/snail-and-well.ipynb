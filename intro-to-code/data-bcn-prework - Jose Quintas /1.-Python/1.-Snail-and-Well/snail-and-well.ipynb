{
 "cells": [
  {
   "cell_type": "markdown",
   "metadata": {},
   "source": [
    "<img src=\"https://bit.ly/2VnXWr2\" width=\"100\" align=\"left\">"
   ]
  },
  {
   "cell_type": "markdown",
   "metadata": {},
   "source": [
    "# The Snail and the Well\n",
    "\n",
    "A snail falls at the bottom of a 125 cm well. Each day the snail rises 30 cm. But at night, while sleeping, slides 20 cm because the walls are wet. How many days does it take for the snail to escape the well?\n",
    "\n",
    "**Hint**: The snail gets out of the well when it surpasses the 125cm of height.\n",
    "\n",
    "## Tools\n",
    "\n",
    "1. Loop: **while**\n",
    "2. Conditional statements: **if-else**\n",
    "3. Function: **print()**\n",
    "\n",
    "## Tasks\n",
    "\n",
    "#### 1. Assign the challenge data to variables with representative names: `well_height`, `daily_distance`, `nightly_distance` and `snail_position`."
   ]
  },
  {
   "cell_type": "code",
   "execution_count": 2,
   "metadata": {},
   "outputs": [
    {
     "name": "stdout",
     "output_type": "stream",
     "text": [
      "Snail position is:  0\n"
     ]
    }
   ],
   "source": [
    "well_height = 125\n",
    "daily_distance = 30\n",
    "nightly_distance = -20\n",
    "snail_position = 0"
   ]
  },
  {
   "cell_type": "markdown",
   "metadata": {},
   "source": [
    "#### 2. Create a variable `days` to keep count of the days that pass until the snail escapes the well. "
   ]
  },
  {
   "cell_type": "code",
   "execution_count": 3,
   "metadata": {},
   "outputs": [],
   "source": [
    "days = 0 "
   ]
  },
  {
   "cell_type": "markdown",
   "metadata": {},
   "source": [
    "#### 3. Find the solution to the challenge using the variables defined above. "
   ]
  },
  {
   "cell_type": "code",
   "execution_count": 7,
   "metadata": {},
   "outputs": [
    {
     "name": "stdout",
     "output_type": "stream",
     "text": [
      "5\n"
     ]
    }
   ],
   "source": [
    "while snail_position < well_height :\n",
    "    days += 1\n",
    "    snail_position = snail_position + (daily_distance + nightly_distance)*days\n",
    "\n",
    "print (days)"
   ]
  },
  {
   "cell_type": "markdown",
   "metadata": {},
   "source": [
    "#### 4. Print the solution."
   ]
  },
  {
   "cell_type": "code",
   "execution_count": 10,
   "metadata": {},
   "outputs": [
    {
     "name": "stdout",
     "output_type": "stream",
     "text": [
      "At day 5 The snail has climbed 150 cm, thus, exiting the well\n"
     ]
    }
   ],
   "source": [
    "print(\"At day\", days, \"The snail has climbed\", snail_position, \"cm, thus, exiting the well\")"
   ]
  },
  {
   "cell_type": "markdown",
   "metadata": {},
   "source": [
    "## Bonus\n",
    "The distance traveled by the snail each day is now defined by a list.\n",
    "```\n",
    "advance_cm = [30, 21, 33, 77, 44, 45, 23, 45, 12, 34, 55]\n",
    "```\n",
    "On the first day, the snail rises 30cm but during the night it slides 20cm. On the second day, the snail rises 21cm but during the night it slides 20cm, and so on. \n",
    "\n",
    "#### 1. How many days does it take for the snail to escape the well?\n",
    "Follow the same guidelines as in the previous challenge.\n",
    "\n",
    "**Hint**: Remember that the snail gets out of the well when it surpasses the 125cm of height."
   ]
  },
  {
   "cell_type": "code",
   "execution_count": 2,
   "metadata": {},
   "outputs": [
    {
     "name": "stdout",
     "output_type": "stream",
     "text": [
      "Well height is 125\n",
      "10\n",
      "11\n",
      "24\n",
      "81\n",
      "105\n",
      "130\n",
      "The snail now takes 6  days to climb out of the well\n"
     ]
    }
   ],
   "source": [
    "advance_cm = [30, 21, 33, 77, 44, 45, 23, 45, 12, 34, 55]\n",
    "\n",
    "snail_position_new = 0\n",
    "dayz = 0\n",
    "well_height = 125\n",
    "nightly_distance = -20\n",
    "\n",
    "print(\"Well height is\", well_height)\n",
    "\n",
    "for i in advance_cm:\n",
    "    if snail_position_new < well_height:\n",
    "        snail_position_new += i+nightly_distance\n",
    "        dayz +=1\n",
    "        print(snail_position_new)\n",
    "\n",
    "print(\"The snail now takes\", dayz, \" days to climb out of the well\")\n",
    "       \n",
    "\n",
    "\n",
    "    \n",
    "    "
   ]
  },
  {
   "cell_type": "markdown",
   "metadata": {},
   "source": [
    "#### 2. What is its maximum displacement in one day? And its minimum? Calculate the displacement using only the travel distance of the days used to get out of the well. \n",
    "**Hint**: Remember that displacement means the total distance risen taking into account that the snail slides at night.  "
   ]
  },
  {
   "cell_type": "code",
   "execution_count": 14,
   "metadata": {},
   "outputs": [
    {
     "name": "stdout",
     "output_type": "stream",
     "text": [
      "Well height is 125\n",
      "Daily displacement list: [10, 1, 13, 57, 24, 25]\n",
      "Maximum displacement in a day is: 57\n",
      "Minimum displacement in a day is: 1\n"
     ]
    }
   ],
   "source": [
    "advance_cm = [30, 21, 33, 77, 44, 45, 23, 45, 12, 34, 55]\n",
    "\n",
    "snail_position_new = 0\n",
    "dayz = 0\n",
    "well_height = 125\n",
    "nightly_distance = -20\n",
    "daily_displacement = []\n",
    "\n",
    "print(\"Well height is\", well_height)\n",
    "\n",
    "for i in advance_cm:\n",
    "    if snail_position_new < well_height:\n",
    "        snail_position_new += i+nightly_distance\n",
    "        dayz +=1\n",
    "        daily_displacement.append(i+nightly_distance)\n",
    "\n",
    "print(\"Daily displacement list:\", daily_displacement)\n",
    "\n",
    "maximum_displacement = max(daily_displacement)\n",
    "print(\"Maximum displacement in a day is:\", maximum_displacement)\n",
    "\n",
    "minimum_displacement = min(daily_displacement)\n",
    "print(\"Minimum displacement in a day is:\", minimum_displacement)\n",
    "\n",
    "              "
   ]
  },
  {
   "cell_type": "markdown",
   "metadata": {},
   "source": [
    "#### 3. What is its average progress? Take into account the snail slides at night."
   ]
  },
  {
   "cell_type": "code",
   "execution_count": 19,
   "metadata": {},
   "outputs": [
    {
     "name": "stdout",
     "output_type": "stream",
     "text": [
      "21.667\n"
     ]
    }
   ],
   "source": [
    "def average(x): \n",
    "    return sum(x)/len(x)\n",
    "\n",
    "average_daily_displacement = Average(daily_displacement)\n",
    "\n",
    "print(round(average_daily_displacement, 3))"
   ]
  },
  {
   "cell_type": "markdown",
   "metadata": {},
   "source": [
    "#### 4. What is the standard deviation of its displacement? Take into account the snail slides at night."
   ]
  },
  {
   "cell_type": "code",
   "execution_count": 23,
   "metadata": {},
   "outputs": [
    {
     "name": "stdout",
     "output_type": "stream",
     "text": [
      "The standard deviation of its displacement is: 19.510680835549195\n"
     ]
    }
   ],
   "source": [
    "import statistics \n",
    "\n",
    "stdev_daily_displacement = statistics.stdev(daily_displacement)\n",
    "\n",
    "print(\"The standard deviation of its displacement is:\", stdev_daily_displacement) \n",
    "\n"
   ]
  },
  {
   "cell_type": "code",
   "execution_count": null,
   "metadata": {},
   "outputs": [],
   "source": []
  }
 ],
 "metadata": {
  "kernelspec": {
   "display_name": "Python 3",
   "language": "python",
   "name": "python3"
  },
  "language_info": {
   "codemirror_mode": {
    "name": "ipython",
    "version": 3
   },
   "file_extension": ".py",
   "mimetype": "text/x-python",
   "name": "python",
   "nbconvert_exporter": "python",
   "pygments_lexer": "ipython3",
   "version": "3.6.9"
  }
 },
 "nbformat": 4,
 "nbformat_minor": 2
}
