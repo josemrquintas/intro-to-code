{
 "cells": [
  {
   "cell_type": "markdown",
   "metadata": {},
   "source": [
    "<img src=\"https://bit.ly/2VnXWr2\" width=\"100\" align=\"left\">"
   ]
  },
  {
   "cell_type": "markdown",
   "metadata": {},
   "source": [
    "# Duel of Sorcerers\n",
    "You are witnessing an epic battle between two powerful sorcerers: Gandalf and Saruman. Each sorcerer has 10 spells of variable power in their mind and they are going to throw them one after the other. The winner of the duel will be the one who wins more of those clashes between spells. Spells are represented as a list of 10 integers whose value equals the power of the spell.\n",
    "```\n",
    "gandalf = [10, 11, 13, 30, 22, 11, 10, 33, 22, 22]\n",
    "saruman = [23, 66, 12, 43, 12, 10, 44, 23, 12, 17]\n",
    "```\n",
    "For example:\n",
    "- The first clash is won by Saruman: 10 against 23.\n",
    "- The second clash is won by Saruman: 11 against 66.\n",
    "- ...\n",
    "\n",
    "You will create two variables, one for each sorcerer, where the sum of clashes won will be stored. Depending on which variable is greater at the end of the duel, you will show one of the following three results on the screen:\n",
    "* Gandalf wins\n",
    "* Saruman wins\n",
    "* Tie\n",
    "\n",
    "<img src=\"images/content_lightning_bolt_big.jpg\" width=\"400\">"
   ]
  },
  {
   "cell_type": "markdown",
   "metadata": {},
   "source": [
    "## Tools\n",
    "You don't necessarily need to use all the tools. Maybe you opt to use some of them or completely different ones, they are given to help you shape the exercise. Programming exercises can be solved in many different ways.\n",
    "\n",
    "1. Data structures: **lists, dictionaries**\n",
    "2. Loop: **for loop**\n",
    "3. Conditional statements: **if-elif-else**\n",
    "4. Functions: **range(), len(), print()**\n",
    "\n",
    "## Tasks\n",
    "\n",
    "#### 1. Create two variables called `gandalf` and `saruman` and assign them the spell power lists. Create a variable called `spells` to store the number of spells that the sorcerers cast. "
   ]
  },
  {
   "cell_type": "code",
   "execution_count": 4,
   "metadata": {},
   "outputs": [],
   "source": [
    "gandalf = [10, 11, 13, 30, 22, 11, 10, 33, 22, 22]\n",
    "saruman = [23, 66, 12, 43, 12, 10, 44, 23, 12, 17]\n"
   ]
  },
  {
   "cell_type": "markdown",
   "metadata": {},
   "source": [
    "#### 2. Create two variables called `gandalf_wins` and `saruman_wins`. Set both of them to 0. \n",
    "You will use these variables to count the number of clashes each sorcerer wins. "
   ]
  },
  {
   "cell_type": "code",
   "execution_count": 5,
   "metadata": {},
   "outputs": [],
   "source": [
    "gandalf_wins = 0 \n",
    "saruman_wins = 0 \n"
   ]
  },
  {
   "cell_type": "markdown",
   "metadata": {},
   "source": [
    "#### 3. Using the lists of spells of both sorcerers, update variables `gandalf_wins` and `saruman_wins` to count the number of times each sorcerer wins a clash. "
   ]
  },
  {
   "cell_type": "code",
   "execution_count": 6,
   "metadata": {},
   "outputs": [
    {
     "name": "stdout",
     "output_type": "stream",
     "text": [
      "Saruman wins round 1\n",
      "Saruman wins round 2\n",
      "Gandalf wins round 3\n",
      "Saruman wins round 4\n",
      "Gandalf wins round 5\n",
      "Gandalf wins round 6\n",
      "Saruman wins round 7\n",
      "Gandalf wins round 8\n",
      "Gandalf wins round 9\n",
      "Gandalf wins round 10\n",
      "Gandalf's Round Wins = 6\n",
      "Saruman's Round Wins = 4\n"
     ]
    }
   ],
   "source": [
    "gandalf = [10, 11, 13, 30, 22, 11, 10, 33, 22, 22]\n",
    "saruman = [23, 66, 12, 43, 12, 10, 44, 23, 12, 17]\n",
    "\n",
    "gandalf_wins = 0 \n",
    "saruman_wins = 0 \n",
    "turn = 0\n",
    "\n",
    "for i, x in zip(gandalf, saruman):\n",
    "    if (i-x) < 0 : \n",
    "        saruman_wins +=1\n",
    "        turn += 1\n",
    "        print(\"Saruman wins round\", turn)\n",
    "    else:\n",
    "        gandalf_wins +=1\n",
    "        turn += 1\n",
    "        print(\"Gandalf wins round\", turn)\n",
    "    \n",
    "print(\"Gandalf's Round Wins =\", gandalf_wins)\n",
    "print(\"Saruman's Round Wins =\", saruman_wins)\n",
    "\n"
   ]
  },
  {
   "cell_type": "markdown",
   "metadata": {},
   "source": [
    "#### 4. Who won the battle?\n",
    "Print `Gandalf wins`, `Saruman wins` or `Tie` depending on the result. "
   ]
  },
  {
   "cell_type": "code",
   "execution_count": 7,
   "metadata": {},
   "outputs": [
    {
     "name": "stdout",
     "output_type": "stream",
     "text": [
      "Saruman wins round 1\n",
      "Saruman wins round 2\n",
      "Gandalf wins round 3\n",
      "Saruman wins round 4\n",
      "Gandalf wins round 5\n",
      "Gandalf wins round 6\n",
      "Saruman wins round 7\n",
      "Gandalf wins round 8\n",
      "Gandalf wins round 9\n",
      "Gandalf wins round 10\n",
      "Gandalf Wins = 6\n",
      "Saruman Wins = 4\n",
      "Gandalf wins the match! Order returns.\n"
     ]
    }
   ],
   "source": [
    "gandalf = [10, 11, 13, 30, 22, 11, 10, 33, 22, 22]\n",
    "saruman = [23, 66, 12, 43, 12, 10, 44, 23, 12, 17]\n",
    "\n",
    "gandalf_wins = 0 \n",
    "saruman_wins = 0 \n",
    "turn = 0\n",
    "\n",
    "for i, x in zip(gandalf, saruman):\n",
    "    if (i-x) < 0 : \n",
    "        saruman_wins +=1\n",
    "        turn += 1\n",
    "        print(\"Saruman wins round\", turn)\n",
    "    else:\n",
    "        gandalf_wins +=1\n",
    "        turn += 1\n",
    "        print(\"Gandalf wins round\", turn)\n",
    "    \n",
    "print(\"Gandalf Wins =\", gandalf_wins)\n",
    "print(\"Saruman Wins =\", saruman_wins)\n",
    "\n",
    "if saruman_wins < gandalf_wins: \n",
    "    print(\"Gandalf wins the match! Order returns.\")\n",
    "else: \n",
    "    print(\"Saruman wins the match! May hell arrive.\")"
   ]
  },
  {
   "cell_type": "markdown",
   "metadata": {},
   "source": [
    "## Bonus\n",
    "\n",
    "In this bonus challenge, you'll need to check the winner of the battle but this time, a sorcerer wins if he succeeds in winning 3 spell clashes in a row.\n",
    "\n",
    "Also, the spells now have a name and there is a dictionary that associates that name to a power.\n",
    "\n",
    "```\n",
    "POWER = {\n",
    "    'Fireball': 50, \n",
    "    'Lightning bolt': 40, \n",
    "    'Magic arrow': 10, \n",
    "    'Black Tentacles': 25, \n",
    "    'Contagion': 45\n",
    "}\n",
    "\n",
    "gandalf = ['Fireball', 'Lightning bolt', 'Lightning bolt', 'Magic arrow', 'Fireball', \n",
    "           'Magic arrow', 'Lightning bolt', 'Fireball', 'Fireball', 'Fireball']\n",
    "saruman = ['Contagion', 'Contagion', 'Black Tentacles', 'Fireball', 'Black Tentacles', \n",
    "           'Lightning bolt', 'Magic arrow', 'Contagion', 'Magic arrow', 'Magic arrow']\n",
    "```\n",
    "\n",
    "#### 1. Create variables `POWER`, `gandalf` and `saruman` as seen above. Create a variable called `spells` to store the number of spells that the sorcerers cast. "
   ]
  },
  {
   "cell_type": "code",
   "execution_count": 8,
   "metadata": {},
   "outputs": [],
   "source": [
    "POWER = {\n",
    "    'Fireball': 50, \n",
    "    'Lightning bolt': 40, \n",
    "    'Magic arrow': 10, \n",
    "    'Black Tentacles': 25, \n",
    "    'Contagion': 45\n",
    "}\n",
    "\n",
    "gandalf = ['Fireball', 'Lightning bolt', 'Lightning bolt', 'Magic arrow', 'Fireball', \n",
    "           'Magic arrow', 'Lightning bolt', 'Fireball', 'Fireball', 'Fireball']\n",
    "\n",
    "gandalf_spells = len(gandalf)\n",
    "\n",
    "saruman = ['Contagion', 'Contagion', 'Black Tentacles', 'Fireball', 'Black Tentacles', \n",
    "           'Lightning bolt', 'Magic arrow', 'Contagion', 'Magic arrow', 'Magic arrow']\n",
    "\n",
    "saruman_spells = len(saruman)"
   ]
  },
  {
   "cell_type": "markdown",
   "metadata": {},
   "source": [
    "#### 2. Create two variables called `gandalf_wins` and `saruman_wins`. Set both of them to 0. "
   ]
  },
  {
   "cell_type": "code",
   "execution_count": 9,
   "metadata": {},
   "outputs": [],
   "source": [
    "gandalf_wins = 0 \n",
    "saruman_wins = 0 "
   ]
  },
  {
   "cell_type": "markdown",
   "metadata": {},
   "source": [
    "#### 3. Create two variables called `gandalf_power` and `saruman_power` to store the list of spell powers of each sorcerer."
   ]
  },
  {
   "cell_type": "code",
   "execution_count": 10,
   "metadata": {},
   "outputs": [
    {
     "name": "stdout",
     "output_type": "stream",
     "text": [
      "[50]\n",
      "[50, 40]\n",
      "[50, 40, 40]\n",
      "[50, 40, 40, 10]\n",
      "[50, 40, 40, 10, 50]\n",
      "[50, 40, 40, 10, 50, 10]\n",
      "[50, 40, 40, 10, 50, 10, 40]\n",
      "[50, 40, 40, 10, 50, 10, 40, 50]\n",
      "[50, 40, 40, 10, 50, 10, 40, 50, 50]\n",
      "[50, 40, 40, 10, 50, 10, 40, 50, 50, 50]\n",
      "[45]\n",
      "[45, 45]\n",
      "[45, 45, 25]\n",
      "[45, 45, 25, 50]\n",
      "[45, 45, 25, 50, 25]\n",
      "[45, 45, 25, 50, 25, 40]\n",
      "[45, 45, 25, 50, 25, 40, 10]\n",
      "[45, 45, 25, 50, 25, 40, 10, 45]\n",
      "[45, 45, 25, 50, 25, 40, 10, 45, 10]\n",
      "[45, 45, 25, 50, 25, 40, 10, 45, 10, 10]\n"
     ]
    }
   ],
   "source": [
    "gandalf_attack = []\n",
    "\n",
    "for spell in gandalf: \n",
    "    gandalf_attack.append(POWER[spell])\n",
    "    print(gandalf_attack)\n",
    "    \n",
    "saruman_attack = []\n",
    "\n",
    "for spell in saruman: \n",
    "    saruman_attack.append(POWER[spell])\n",
    "    print(saruman_attack)\n"
   ]
  },
  {
   "cell_type": "markdown",
   "metadata": {},
   "source": [
    "#### 4. The battle starts! Using the variables you've created above, code the execution of spell clashes. Remember that a sorcerer wins if he succeeds in winning 3 spell clashes in a row. \n",
    "If a clash ends up in a tie, the counter of wins in a row is not restarted to 0. Remember to print who is the winner of the battle. "
   ]
  },
  {
   "cell_type": "code",
   "execution_count": 11,
   "metadata": {},
   "outputs": [
    {
     "name": "stdout",
     "output_type": "stream",
     "text": [
      "The battle starts!\n",
      "Gandalf wins clash  1\n",
      "Saruman wins clash  2\n",
      "Gandalf wins clash  3\n",
      "Saruman wins clash  4\n",
      "Gandalf wins clash  5\n",
      "Saruman wins clash  6\n",
      "Gandalf wins clash  7\n",
      "Gandalf wins clash  8\n",
      "Wow! Gandalf wins 3 clashes in a row! - Round  9\n",
      "Saruman wins: 0\n",
      "Gandalf wins: 1\n"
     ]
    }
   ],
   "source": [
    "clash_result = []\n",
    "current_result = 0 \n",
    "gandalf_clash_wins = 0\n",
    "saruman_clash_wins = 0\n",
    "clash_round = 0\n",
    "    \n",
    "print(\"The battle starts!\")\n",
    "    \n",
    "for i, b in zip(gandalf_attack, saruman_attack): \n",
    "#gandalf wins individual clash\n",
    "    if i>b and (current_result < 3 or current_result >-3):\n",
    "        if current_result >= 0 and current_result < 3:\n",
    "            current_result += 1\n",
    "            clash_result.append(current_result)\n",
    "            clash_round +=1\n",
    "            print(\"Gandalf wins clash \", clash_round)\n",
    "        elif current_result == 3:\n",
    "            current_result = 0\n",
    "            gandalf_clash_wins += 1\n",
    "            clash_result.append(current_result)\n",
    "            clash_round +=1\n",
    "            print(\"Wow! Gandalf wins 3 clashes in a row! - Round \", clash_round)\n",
    "            break\n",
    "        else:\n",
    "            current_result = 0\n",
    "            current_result += 1\n",
    "            clash_result.append(current_result) \n",
    "            clash_round +=1\n",
    "            print(\"Gandalf wins clash \", clash_round)\n",
    "#saruman wins individual clash\n",
    "    elif i<b and (current_result < 3 or current_result >-3)  :\n",
    "        if current_result > -3 and current_result <= 0:\n",
    "            current_result +=1\n",
    "            clash_result.append(current_result)\n",
    "            clash_round += 1\n",
    "            print(\"Saruman wins clash \", clash_round)\n",
    "        elif current_result == -3: \n",
    "            current_result = 0 \n",
    "            saruman_clash_wins +=1\n",
    "            clash_result.append(current_result)\n",
    "            clash_round +=1\n",
    "            print(\"Wow! Saruman wins 3 clashes in a row!\")\n",
    "            break\n",
    "        else: \n",
    "            current_result = 0\n",
    "            current_result += 1\n",
    "            clash_result.append(current_result)\n",
    "            clash_round +=1\n",
    "            print(\"Saruman wins clash \", clash_round)\n",
    "                    \n",
    "#tie\n",
    "    elif (i == b) and (current_result < 3 or current_result > -3): \n",
    "        current_result = current_result\n",
    "        clash_result.append(current_result)\n",
    "        print(\"The power of each sorcerer was equally incredible, clash\", clash_round,\"was a tie\")\n",
    "    \n",
    "\n",
    "\n",
    "\n",
    "print(\"Saruman wins:\", saruman_clash_wins)\n",
    "print(\"Gandalf wins:\", gandalf_clash_wins)"
   ]
  },
  {
   "cell_type": "markdown",
   "metadata": {},
   "source": [
    "#### 5. Find the average spell power of Gandalf and Saruman. "
   ]
  },
  {
   "cell_type": "code",
   "execution_count": 12,
   "metadata": {},
   "outputs": [
    {
     "name": "stdout",
     "output_type": "stream",
     "text": [
      "The average Gandalf spell is: 39\n",
      "The average Saruman spell is: 30.5\n"
     ]
    }
   ],
   "source": [
    "import statistics\n",
    "\n",
    "average_gandalf_spell = statistics.mean(gandalf_attack)\n",
    "average_saruman_spell = statistics.mean(saruman_attack)\n",
    "\n",
    "print(\"The average Gandalf spell is:\", average_gandalf_spell)\n",
    "print(\"The average Saruman spell is:\", average_saruman_spell)"
   ]
  },
  {
   "cell_type": "markdown",
   "metadata": {},
   "source": [
    "#### 6. Find the standard deviation of the spell power of Gandalf and Saruman. "
   ]
  },
  {
   "cell_type": "code",
   "execution_count": 14,
   "metadata": {},
   "outputs": [
    {
     "name": "stdout",
     "output_type": "stream",
     "text": [
      "The standard deviation of Gandalf's spells is: 15.95\n",
      "The standard deviation of Saruman's spells is: 16.41\n"
     ]
    }
   ],
   "source": [
    "import statistics\n",
    "\n",
    "stdev_gandalf_spell = round(statistics.stdev(gandalf_attack), 2)\n",
    "stdev_saruman_spell = round(statistics.stdev(saruman_attack), 2)\n",
    "\n",
    "print(\"The standard deviation of Gandalf's spells is:\", stdev_gandalf_spell)\n",
    "print(\"The standard deviation of Saruman's spells is:\", stdev_saruman_spell)"
   ]
  },
  {
   "cell_type": "code",
   "execution_count": null,
   "metadata": {},
   "outputs": [],
   "source": []
  }
 ],
 "metadata": {
  "kernelspec": {
   "display_name": "Python 3",
   "language": "python",
   "name": "python3"
  },
  "language_info": {
   "codemirror_mode": {
    "name": "ipython",
    "version": 3
   },
   "file_extension": ".py",
   "mimetype": "text/x-python",
   "name": "python",
   "nbconvert_exporter": "python",
   "pygments_lexer": "ipython3",
   "version": "3.6.9"
  }
 },
 "nbformat": 4,
 "nbformat_minor": 2
}
