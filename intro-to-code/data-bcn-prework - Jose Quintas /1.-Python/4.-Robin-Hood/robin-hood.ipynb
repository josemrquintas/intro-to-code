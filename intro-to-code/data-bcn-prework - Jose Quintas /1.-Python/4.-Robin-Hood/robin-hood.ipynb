{
 "cells": [
  {
   "cell_type": "markdown",
   "metadata": {},
   "source": [
    "<img src=\"https://bit.ly/2VnXWr2\" width=\"100\" align=\"left\"/>"
   ]
  },
  {
   "cell_type": "markdown",
   "metadata": {},
   "source": [
    "# Robin Hood\n",
    "Robin Hood has entered a competition to win the archery contest in Sherwood. With his bow and arrows, he needs to shoot on a target and try to hit as close as possible to the center.\n",
    "\n",
    "![](images/arrows.jpg)\n",
    "\n",
    "## Context\n",
    "In this challenge, the landing position of arrows shot by archers in the competition will be represented using 2-dimensional coordinates. \n",
    "\n",
    "In the 2-dimensional space, a point can be defined by a pair of values that correspond to the horizontal coordinate (x) and the vertical coordinate (y). For example, in our case, an arrow that hits the center of the archery target will land in position (0, 0) on the coordinate axes. \n",
    "\n",
    "The space can be divided into 4 zones (quadrants): Q1, Q2, Q3, Q4. If a point is in Q1, both its x coordinate and y coordinate are positive. Any point with a null x or y coordinate is considered to not belong to any quadrant. \n",
    "\n",
    "If you want to know more about the cartesian coordinate system, you can check this [link](https://en.wikipedia.org/wiki/Cartesian_coordinate_system). \n",
    "\n",
    "## Tools\n",
    "You don't necessarily need to use all the tools. Maybe you opt to use some of them or completely different ones, they are given to help you shape the exercise. Programming exercises can be solved in many different ways.\n",
    "* Data structures: **lists, sets, tuples**\n",
    "* Conditional statements: **if-elif-else**\n",
    "* Loop: **while/for**\n",
    "* Minimum (optional sorting)\n",
    "\n",
    "## Tasks\n",
    "Robin Hood has hit the following points:"
   ]
  },
  {
   "cell_type": "code",
   "execution_count": 1,
   "metadata": {},
   "outputs": [],
   "source": [
    "points = [(4, 5), (-0, 2), (4, 7), (1, -3), (3, -2), (4, 5), (3, 2), (5, 7), (-5, 7), (2, 2), (-4, 5), (0, -2),\n",
    "          (-4, 7), (-1, 3), (-3, 2), (-4, -5), (-3, 2), (5, 7), (5, 7), (2, 2), (9, 9), (-8, -9)]"
   ]
  },
  {
   "cell_type": "markdown",
   "metadata": {},
   "source": [
    "#### 1. Robin Hood is famous for hitting an arrow with another arrow. Find the coordinates of the points where an arrow hits another arrow."
   ]
  },
  {
   "cell_type": "code",
   "execution_count": 2,
   "metadata": {},
   "outputs": [
    {
     "name": "stdout",
     "output_type": "stream",
     "text": [
      "Original List :  [(4, 5), (0, 2), (4, 7), (1, -3), (3, -2), (4, 5), (3, 2), (5, 7), (-5, 7), (2, 2), (-4, 5), (0, -2), (-4, 7), (-1, 3), (-3, 2), (-4, -5), (-3, 2), (5, 7), (5, 7), (2, 2), (9, 9), (-8, -9)]\n",
      "Frequency of the elements in the List :  Counter({(5, 7): 3, (4, 5): 2, (2, 2): 2, (-3, 2): 2, (0, 2): 1, (4, 7): 1, (1, -3): 1, (3, -2): 1, (3, 2): 1, (-5, 7): 1, (-4, 5): 1, (0, -2): 1, (-4, 7): 1, (-1, 3): 1, (-4, -5): 1, (9, 9): 1, (-8, -9): 1})\n",
      "Dictionary form: {(4, 5): 2, (0, 2): 1, (4, 7): 1, (1, -3): 1, (3, -2): 1, (3, 2): 1, (5, 7): 3, (-5, 7): 1, (2, 2): 2, (-4, 5): 1, (0, -2): 1, (-4, 7): 1, (-1, 3): 1, (-3, 2): 2, (-4, -5): 1, (9, 9): 1, (-8, -9): 1}\n",
      "The following points were hit twice:  [(4, 5), (2, 2), (-3, 2)]\n",
      "The following points were hit 3 times:  [(5, 7)]\n"
     ]
    }
   ],
   "source": [
    "points = [(4, 5), (-0, 2), (4, 7), (1, -3), (3, -2), (4, 5), (3, 2), (5, 7), (-5, 7), (2, 2), (-4, 5), (0, -2),\n",
    "          (-4, 7), (-1, 3), (-3, 2), (-4, -5), (-3, 2), (5, 7), (5, 7), (2, 2), (9, 9), (-8, -9)]\n",
    "\n",
    "\n",
    "\n",
    "import collections\n",
    "print(\"Original List : \", points)\n",
    "\n",
    "ctr = collections.Counter(points)\n",
    "counts = dict(ctr)\n",
    "print(\"Frequency of the elements in the List : \",ctr)\n",
    "print(\"Dictionary form:\", counts)\n",
    "\n",
    "\n",
    "list_duplicates = []\n",
    "list_triples = []\n",
    "\n",
    "for key, value in counts.items(): \n",
    "    if value == 2: \n",
    "        list_duplicates.append(key)\n",
    "    elif value == 3: \n",
    "        list_triples.append(key)\n",
    "        \n",
    "print(\"The following points were hit twice: \", list_duplicates)\n",
    "print(\"The following points were hit 3 times: \", list_triples)\n"
   ]
  },
  {
   "cell_type": "code",
   "execution_count": null,
   "metadata": {},
   "outputs": [],
   "source": []
  },
  {
   "cell_type": "markdown",
   "metadata": {},
   "source": [
    "#### 2. Calculate how many arrows have fallen in each quadrant. \n",
    "**Note**: the arrows that fall in the axis (x=0 or y=0) don't belong to any quadrant."
   ]
  },
  {
   "cell_type": "code",
   "execution_count": 3,
   "metadata": {},
   "outputs": [
    {
     "name": "stdout",
     "output_type": "stream",
     "text": [
      "points = [(4, 5), (0, 2), (4, 7), (1, -3), (3, -2), (4, 5), (3, 2), (5, 7), (-5, 7), (2, 2), (-4, 5), (0, -2), (-4, 7), (-1, 3), (-3, 2), (-4, -5), (-3, 2), (5, 7), (5, 7), (2, 2), (9, 9), (-8, -9)]\n",
      "number of arrows =  22\n",
      "[(4, 5), (4, 7), (4, 5), (3, 2), (5, 7), (2, 2), (5, 7), (5, 7), (2, 2), (9, 9)]\n",
      "[(-5, 7), (-4, 5), (-4, 7), (-1, 3), (-3, 2), (-3, 2)]\n",
      "[(-4, -5), (-8, -9)]\n",
      "[(1, -3), (3, -2)]\n",
      "[(0, 2), (0, -2)]\n",
      "Q1 =  10 arrows\n",
      "Q2 =  6 arrows\n",
      "Q3 =  2 arrows\n",
      "Q4 =  2 arrows\n",
      "Outside of Quadrants =  2\n"
     ]
    }
   ],
   "source": [
    "print(\"points =\", points)\n",
    "\n",
    "Q1 = []\n",
    "Q2 = []\n",
    "Q3 = []\n",
    "Q4 = []\n",
    "Qzero = []\n",
    "\n",
    "print(\"number of arrows = \", len(points))\n",
    "\n",
    "\n",
    "for (a,b) in points:\n",
    "    if a > 0 and b > 0: \n",
    "        Q1.append((a,b))\n",
    "    elif a < 0 and b > 0:\n",
    "        Q2.append((a,b))\n",
    "    elif a < 0 and b < 0:\n",
    "        Q3.append((a,b))\n",
    "    elif a > 0 and b < 0: \n",
    "        Q4.append((a,b))\n",
    "    else: \n",
    "        Qzero.append((a,b))\n",
    "\n",
    "print(Q1)\n",
    "print(Q2)\n",
    "print(Q3)\n",
    "print(Q4)\n",
    "print(Qzero)\n",
    "\n",
    "number_Q1 = len(Q1)\n",
    "number_Q2 = len(Q2)\n",
    "number_Q3 = len(Q3)\n",
    "number_Q4 = len(Q4)\n",
    "number_Qzero = len(Qzero)\n",
    "\n",
    "\n",
    "\n",
    "print(\"Q1 = \", number_Q1, \"arrows\")\n",
    "print(\"Q2 = \", number_Q2, \"arrows\")\n",
    "print(\"Q3 = \", number_Q3, \"arrows\")\n",
    "print(\"Q4 = \", number_Q4, \"arrows\")\n",
    "print(\"Outside of Quadrants = \", number_Qzero)         "
   ]
  },
  {
   "cell_type": "markdown",
   "metadata": {},
   "source": [
    "#### 3. Find the point closest to the center. Calculate its distance to the center. \n",
    "Take into account that there might be more than one point at the minimum distance to the center.\n",
    "\n",
    "**Hint**: Use the Euclidean distance. You can find more information about it [here](https://en.wikipedia.org/wiki/Euclidean_distance).  \n",
    "**Hint**: Defining a function that calculates the distance to the center can help."
   ]
  },
  {
   "cell_type": "code",
   "execution_count": 4,
   "metadata": {},
   "outputs": [
    {
     "name": "stdout",
     "output_type": "stream",
     "text": [
      "Max distance is:  12.73 in point (9, 9)\n"
     ]
    }
   ],
   "source": [
    "points = [(4, 5), (-0, 2), (4, 7), (1, -3), (3, -2), (4, 5), (3, 2), (5, 7), (-5, 7), (2, 2), (-4, 5), (0, -2),\n",
    "          (-4, 7), (-1, 3), (-3, 2), (-4, -5), (-3, 2), (5, 7), (5, 7), (2, 2), (9, 9), (-8, -9)]\n",
    "\n",
    "pointz_distance = []\n",
    "\n",
    "for (x,y) in points:\n",
    "    z = round((((x**2)+(y**2))**0.5),2)\n",
    "    new_point = (x,y,z)\n",
    "    pointz_distance.append(new_point)\n",
    "\n",
    "distance_list = []\n",
    "    \n",
    "for (x,y,z) in pointz_distance:\n",
    "    distance_list.append(z)\n",
    "\n",
    "max_distance = max(distance_list)\n",
    "\n",
    "\n",
    "\n",
    "for (x,y,z) in pointz_distance: \n",
    "    if z == max_distance:\n",
    "        max_point = (x,y)\n",
    "\n",
    "\n",
    "    \n",
    "print(\"Max distance is: \", max_distance, \"in point\", max_point)\n",
    "\n"
   ]
  },
  {
   "cell_type": "markdown",
   "metadata": {},
   "source": [
    "#### 4. If the archery target has a radius of 9, calculate the number of arrows that won't hit the target. \n",
    "**Hint**: Use the function created in step 3. "
   ]
  },
  {
   "cell_type": "code",
   "execution_count": 5,
   "metadata": {},
   "outputs": [
    {
     "name": "stdout",
     "output_type": "stream",
     "text": [
      "Number of arrows: 22\n",
      "Number of arrows that didn't hit the target: 2\n",
      "Number of arrows that hit the target 20\n"
     ]
    }
   ],
   "source": [
    "missing_arrows = []\n",
    "hitting_arrows = []\n",
    "\n",
    "radius = 9\n",
    "\n",
    "for (x,y) in points: \n",
    "    if (x**2)+(y**2) > (radius**2):\n",
    "        missing_arrows.append((x,y))\n",
    "    else:\n",
    "        hitting_arrows.append((x,y))\n",
    "        \n",
    "number_missing_arrows = len(missing_arrows)\n",
    "number_hitting_arrows = len(hitting_arrows)\n",
    "\n",
    "print(\"Number of arrows:\",len(points))        \n",
    "print(\"Number of arrows that didn't hit the target:\", number_missing_arrows)\n",
    "print(\"Number of arrows that hit the target\",number_hitting_arrows)"
   ]
  },
  {
   "cell_type": "code",
   "execution_count": null,
   "metadata": {},
   "outputs": [],
   "source": []
  }
 ],
 "metadata": {
  "kernelspec": {
   "display_name": "Python 3",
   "language": "python",
   "name": "python3"
  },
  "language_info": {
   "codemirror_mode": {
    "name": "ipython",
    "version": 3
   },
   "file_extension": ".py",
   "mimetype": "text/x-python",
   "name": "python",
   "nbconvert_exporter": "python",
   "pygments_lexer": "ipython3",
   "version": "3.6.9"
  }
 },
 "nbformat": 4,
 "nbformat_minor": 2
}
