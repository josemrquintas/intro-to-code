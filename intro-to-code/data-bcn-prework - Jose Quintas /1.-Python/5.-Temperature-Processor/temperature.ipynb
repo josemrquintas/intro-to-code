{
 "cells": [
  {
   "cell_type": "markdown",
   "metadata": {},
   "source": [
    "<img src=\"https://bit.ly/2VnXWr2\" width=\"100\" align=\"left\">"
   ]
  },
  {
   "cell_type": "markdown",
   "metadata": {},
   "source": [
    "# Temperature Sensor\n",
    "\n",
    "There is a temperature sensor in the processor of your company's server. The company wants to analyze the data provided by the sensor to decide if they should change the cooling system for a better one. As changing the cooling system is expensive and you are an excellent data analyst, you can't make a decision without basis.\n",
    "\n",
    "## Tools\n",
    "You don't necessarily need to use all the tools. Maybe you opt to use some of them or completely different ones, they are given to help you shape the exercise. Programming exercises can be solved in many different ways.\n",
    "1. Data structures: **lists**\n",
    "2. Loops: **list comprehension**\n",
    "3. Functions: **min, max, print, len**\n",
    "4. Conditional statements: **if-elif-else**\n",
    "\n",
    "## Tasks\n",
    "The temperatures measured throughout the 24 hours of a day are:"
   ]
  },
  {
   "cell_type": "code",
   "execution_count": 2,
   "metadata": {},
   "outputs": [],
   "source": [
    "temperatures_C = [33, 66, 65, 0, 59, 60, 62, 64, 70, 76, 80, 81, 80, 83, 90, 79, 61, 53, 50, 49, 53, 48, 45, 39]"
   ]
  },
  {
   "cell_type": "markdown",
   "metadata": {},
   "source": [
    "The first element of the list is the temperature at 12am, the second element is the temperature at 1am, and so on. \n",
    "\n",
    "The company has decided that if one of the following events occurs, then the cooling system needs to be replaced for a new one to avoid damaging the processor.\n",
    "* More than 4 temperatures are greater than or equal to 70ºC.\n",
    "* Any temperature is above 80ºC.\n",
    "* The average temperature exceeds 65ºC.\n",
    "\n",
    "Follow the steps so that you can make the decision.\n",
    "\n",
    "#### 1. Find the minimum temperature of the day and store it in a variable."
   ]
  },
  {
   "cell_type": "code",
   "execution_count": 3,
   "metadata": {},
   "outputs": [
    {
     "name": "stdout",
     "output_type": "stream",
     "text": [
      "Min temperature was: 0\n"
     ]
    }
   ],
   "source": [
    "temperatures_C = [33, 66, 65, 0, 59, 60, 62, 64, 70, 76, 80, 81, 80, 83, 90, 79, 61, 53, 50, 49, 53, 48, 45, 39]\n",
    "\n",
    "minimum_temperature = min(temperatures_C)\n",
    "print(\"Min temperature was:\", minimum_temperature)"
   ]
  },
  {
   "cell_type": "markdown",
   "metadata": {},
   "source": [
    "#### 2. Find the maximum temperature of the day and store it in a variable."
   ]
  },
  {
   "cell_type": "code",
   "execution_count": 4,
   "metadata": {},
   "outputs": [
    {
     "name": "stdout",
     "output_type": "stream",
     "text": [
      "Max temperature was: 90\n"
     ]
    }
   ],
   "source": [
    "\n",
    "maximum_temperature = max(temperatures_C)\n",
    "print(\"Max temperature was:\", maximum_temperature)"
   ]
  },
  {
   "cell_type": "markdown",
   "metadata": {},
   "source": [
    "#### 3. Create a list with the temperatures that are greater than or equal to 70ºC. Store it in a variable."
   ]
  },
  {
   "cell_type": "code",
   "execution_count": 5,
   "metadata": {},
   "outputs": [
    {
     "name": "stdout",
     "output_type": "stream",
     "text": [
      "[70, 76, 80, 81, 80, 83, 90, 79]\n"
     ]
    }
   ],
   "source": [
    "temperatures_higher_than_70 = []\n",
    "\n",
    "for i in temperatures_C:\n",
    "    if i<70:\n",
    "        pass\n",
    "    else:\n",
    "        temperatures_higher_than_70.append(i)\n",
    "\n",
    "print(temperatures_higher_than_70)\n",
    "    "
   ]
  },
  {
   "cell_type": "markdown",
   "metadata": {},
   "source": [
    "#### 4. Find the average temperature of the day and store it in a variable."
   ]
  },
  {
   "cell_type": "code",
   "execution_count": 6,
   "metadata": {},
   "outputs": [
    {
     "name": "stdout",
     "output_type": "stream",
     "text": [
      "The average temperature of the day was 60.25\n"
     ]
    }
   ],
   "source": [
    "import statistics\n",
    "\n",
    "average_daily_temperature = statistics.mean(temperatures_C)\n",
    "print(\"The average temperature of the day was\", average_daily_temperature)"
   ]
  },
  {
   "cell_type": "markdown",
   "metadata": {},
   "source": [
    "#### 5. Imagine that there was a sensor failure at 3am and the data for that specific hour was not recorded. How would you estimate the missing value? Replace the current value of the list at 3am for an estimation. "
   ]
  },
  {
   "cell_type": "code",
   "execution_count": 7,
   "metadata": {},
   "outputs": [
    {
     "name": "stdout",
     "output_type": "stream",
     "text": [
      "62.0\n",
      "[33, 66, 65, 62.0, 59, 60, 62, 64, 70, 76, 80, 81, 80, 83, 90, 79, 61, 53, 50, 49, 53, 48, 45, 39]\n"
     ]
    }
   ],
   "source": [
    "import statistics\n",
    "\n",
    "new_value = ((temperatures_C[2])+(temperatures_C[4]))/2\n",
    "print(new_value)\n",
    "\n",
    "temperatures_C.remove(0)\n",
    "temperatures_C.insert(3, new_value)\n",
    "\n",
    "print(temperatures_C)\n"
   ]
  },
  {
   "cell_type": "markdown",
   "metadata": {},
   "source": [
    "#### 6. Bonus: the maintenance staff is from the United States and does not understand the international metric system. Help them by converting the temperatures from Celsius to Fahrenheit.\n",
    "To know more about temperature conversion check this [link](https://en.wikipedia.org/wiki/Conversion_of_units_of_temperature).\n",
    "\n",
    "**Formula**: \n",
    "\n",
    "$F = 1.8 * C + 32$"
   ]
  },
  {
   "cell_type": "code",
   "execution_count": 8,
   "metadata": {},
   "outputs": [
    {
     "name": "stdout",
     "output_type": "stream",
     "text": [
      "[91.4, 150.8, 149.0, 143.6, 138.2, 140.0, 143.6, 147.2, 158.0, 168.8, 176.0, 177.8, 176.0, 181.4, 194.0, 174.2, 141.8, 127.4, 122.0, 120.2, 127.4, 118.4, 113.0, 102.2]\n"
     ]
    }
   ],
   "source": [
    "temperatures_F = []\n",
    "\n",
    "for i in temperatures_C:\n",
    "    temperatures_F.append(round(((1.8*i) +32),2))\n",
    "\n",
    "print(temperatures_F)"
   ]
  },
  {
   "cell_type": "markdown",
   "metadata": {},
   "source": [
    "#### 7. Make a decision!\n",
    "Now it's time to make a decision taking into account what you have seen until now. \n",
    "\n",
    "Remember that if one of the following events occurs, then the cooling system needs to be replaced for a new one to avoid damaging the processor.\n",
    "* More than 4 temperatures are greater than or equal to 70ºC.\n",
    "* Any temperature is above 80ºC.\n",
    "* The average temperature exceeds 65ºC.\n",
    "\n",
    "#### To make your decision, check if any of the three conditions above is met. You might need to use some of the variables you created in steps 1 to 6. Print a message to show if the cooling system needs to be changed or not."
   ]
  },
  {
   "cell_type": "code",
   "execution_count": 9,
   "metadata": {},
   "outputs": [
    {
     "name": "stdout",
     "output_type": "stream",
     "text": [
      "8\n",
      "There are more than 4 temperatures higher than 70. The cooling system needs to be changed\n"
     ]
    }
   ],
   "source": [
    "number_temperatures_higher_than_70 = len(temperatures_higher_than_70)\n",
    "print(number_temperatures_higher_than_70)\n",
    "\n",
    "if number_temperatures_higher_than_70 > 4: \n",
    "    print(\"There are more than 4 temperatures higher than 70. The cooling system needs to be changed\")"
   ]
  },
  {
   "cell_type": "markdown",
   "metadata": {},
   "source": [
    "## Bonus\n",
    "\n",
    "The company has decided that the decision you made is not valid. They want you to analyze the data again but this time, the conditions that need to be met in order to change the cooling system are different.\n",
    "\n",
    "This time, if one of the following events occurs, then the cooling system needs to be replaced:\n",
    "* The temperature is greater than 70ºC during more than 4 consecutive hours.\n",
    "* Any temperature is above 80ºC.\n",
    "* The average temperature exceeds 65ºC.\n",
    "\n",
    "Follow the steps so that you can make the decision.\n",
    "\n",
    "#### 1. Create a list with the hours where the temperature is greater than 70ºC. Store it in a variable."
   ]
  },
  {
   "cell_type": "code",
   "execution_count": 11,
   "metadata": {},
   "outputs": [
    {
     "name": "stdout",
     "output_type": "stream",
     "text": [
      "[9, 10, 11, 12, 13, 14, 15]\n"
     ]
    }
   ],
   "source": [
    "hours_higher_than_70 = []\n",
    "current_hour = -1\n",
    "\n",
    "for x in temperatures_C: \n",
    "    if x > 70 :\n",
    "        current_hour +=1\n",
    "        hours_higher_than_70.append(current_hour)\n",
    "    else:\n",
    "        current_hour +=1\n",
    "    \n",
    "print(hours_higher_than_70)"
   ]
  },
  {
   "cell_type": "markdown",
   "metadata": {},
   "source": [
    "#### 2. Check if the list you created in step 1 has more than 4 consecutive hours. "
   ]
  },
  {
   "cell_type": "code",
   "execution_count": 19,
   "metadata": {},
   "outputs": [
    {
     "name": "stdout",
     "output_type": "stream",
     "text": [
      "Numbers are consecutive!\n",
      "Numbers are consecutive!\n",
      "Numbers are consecutive!\n",
      "Numbers are consecutive!\n",
      "Numbers are consecutive!\n",
      "Numbers are consecutive!\n",
      "There are more than 4 consecutive hours, there are:  6  consecutive hours in which the temperature is over 70 ºC\n"
     ]
    }
   ],
   "source": [
    "number = hours_higher_than_70[0] + 1\n",
    "consecutiveness_test = []\n",
    "consecutiveness_value = 0\n",
    "maximum_consecutive_hours_allowed = 4\n",
    "\n",
    "for i in  range(len(hours_higher_than_70) -1): \n",
    "    if hours_higher_than_70[i+1] - hours_higher_than_70[i] != 1: \n",
    "        consecutiveness_value = 0\n",
    "        consecutiveness_test.append[0]\n",
    "        print(\"Numbers are not consecutive!\")\n",
    "    elif hours_higher_than_70[i+1] - hours_higher_than_70[i] == 1: \n",
    "        consecutiveness_value += 1\n",
    "        consecutiveness_test.append(consecutiveness_value)\n",
    "        print(\"Numbers are consecutive!\")\n",
    "\n",
    "        \n",
    "if max(consecutiveness_test) > maximum_consecutive_hours_allowed : \n",
    "    over_70_consecutive_hours_test = 1\n",
    "    print(\"There are more than 4 consecutive hours, there are: \", max(consecutiveness_test), \" consecutive hours in which the temperature is over 70 ºC\")\n",
    "else:\n",
    "    over_70_consecutive_hours_test = 0\n",
    "    \"Everything is okay! No more than 4 consecutive hours over 70 ºC\""
   ]
  },
  {
   "cell_type": "markdown",
   "metadata": {},
   "source": [
    "#### 3. Make the decision!\n",
    "To make your decision, check if any of the three conditions is met. Print a message to show if the cooling system needs to be changed or not."
   ]
  },
  {
   "cell_type": "code",
   "execution_count": 24,
   "metadata": {},
   "outputs": [
    {
     "name": "stdout",
     "output_type": "stream",
     "text": [
      "Maximum temperature was:  6  which is higher than the allowed limit of 80 ºC\n",
      "Average temperature is:  62.83  ºC, which is below the allowed limit of 65 ºC\n",
      "At least one test failed, the cooling system needs to be replaced\n"
     ]
    }
   ],
   "source": [
    "maximum_temperature_allowed = 80\n",
    "maximum_average_temperature_allowed = 65 \n",
    "\n",
    "if max(temperatures_C) > maximum_temperature_allowed: \n",
    "    maximum_temperature_test = 1\n",
    "    print(\"Maximum temperature was: \", max(consecutiveness_test), \" which is higher than the allowed limit of 80 ºC\")\n",
    "else:\n",
    "    maximum_temperature_test = 0\n",
    "    \"Everything is okay! Maximum temperature is lower than the limit of 80 ºC\"\n",
    "\n",
    "import statistics \n",
    "\n",
    "if statistics.mean(temperatures_C) > maximum_average_temperature_allowed: \n",
    "    average_temperature_test = 1\n",
    "    print(\"Average temperature is: \", statistics.mean(temperatures_C), \"which is over the allowed limit of 65 ºC\")\n",
    "else: \n",
    "    average_temperature_test = 0\n",
    "    print(\"Average temperature is: \", round(statistics.mean(temperatures_C), 2), \" ºC, which is below the allowed limit of 65 ºC\")\n",
    "    \n",
    "if (average_temperature_test + maximum_temperature_test + over_70_consecutive_hours_test) != 0 :\n",
    "    print(\"At least one test failed, the cooling system needs to be replaced\")\n",
    "else: \n",
    "    print(\"Everything seems to be okay! Cooling system does not need replacement\")"
   ]
  },
  {
   "cell_type": "markdown",
   "metadata": {},
   "source": [
    "#### 4. Find the average value of the temperature lists (ºC and ºF). What is the relation between both average values?"
   ]
  },
  {
   "cell_type": "code",
   "execution_count": 28,
   "metadata": {},
   "outputs": [
    {
     "name": "stdout",
     "output_type": "stream",
     "text": [
      "Average temperature in Celsius is:  62.83  ºC\n",
      "Average temperature in Fahreheit is:  145.1  ºF\n",
      "Average temperature in Fahrenheit = 1.8 x Average Temperature in Celsius + 32\n"
     ]
    }
   ],
   "source": [
    "print(\"Average temperature in Celsius is: \", round(statistics.mean(temperatures_C), 2), \" ºC\")\n",
    "print(\"Average temperature in Fahreheit is: \", round(statistics.mean(temperatures_F), 2), \" ºF\")\n",
    "\n",
    "print(\"Average temperature in Fahrenheit = 1.8 x Average Temperature in Celsius + 32\")"
   ]
  },
  {
   "cell_type": "markdown",
   "metadata": {},
   "source": [
    "#### 5. Find the standard deviation of the temperature lists (ºC and ºF). What is the relation between both standard deviations?"
   ]
  },
  {
   "cell_type": "code",
   "execution_count": 36,
   "metadata": {},
   "outputs": [
    {
     "name": "stdout",
     "output_type": "stream",
     "text": [
      "Standard deviation in Celsius is:  14.95 ºC\n",
      "Standard deviation in Fahrenheit is:  26.91 ºF\n",
      "Standard deviation in Fahrenheit = 1.8 x Standard Deviation in Celsius\n"
     ]
    }
   ],
   "source": [
    "print(\"Standard deviation in Celsius is: \", round(statistics.stdev(temperatures_C), 2), \"ºC\")\n",
    "print(\"Standard deviation in Fahrenheit is: \", round(statistics.stdev(temperatures_F), 2), \"ºF\")\n",
    "\n",
    "print(\"Standard deviation in Fahrenheit = 1.8 x Standard Deviation in Celsius\")"
   ]
  },
  {
   "cell_type": "code",
   "execution_count": null,
   "metadata": {},
   "outputs": [],
   "source": []
  }
 ],
 "metadata": {
  "kernelspec": {
   "display_name": "Python 3",
   "language": "python",
   "name": "python3"
  },
  "language_info": {
   "codemirror_mode": {
    "name": "ipython",
    "version": 3
   },
   "file_extension": ".py",
   "mimetype": "text/x-python",
   "name": "python",
   "nbconvert_exporter": "python",
   "pygments_lexer": "ipython3",
   "version": "3.6.9"
  }
 },
 "nbformat": 4,
 "nbformat_minor": 2
}
